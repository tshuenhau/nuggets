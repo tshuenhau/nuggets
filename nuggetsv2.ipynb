{
 "metadata": {
  "language_info": {
   "codemirror_mode": {
    "name": "ipython",
    "version": 3
   },
   "file_extension": ".py",
   "mimetype": "text/x-python",
   "name": "python",
   "nbconvert_exporter": "python",
   "pygments_lexer": "ipython3",
   "version": "3.8.5-final"
  },
  "orig_nbformat": 2,
  "kernelspec": {
   "name": "Python 3.8.5 64-bit ('nuggets': conda)",
   "display_name": "Python 3.8.5 64-bit ('nuggets': conda)",
   "metadata": {
    "interpreter": {
     "hash": "410c48fdd01c30595162ecabab559f8259b61aac1f96fea3078fa9525c871164"
    }
   }
  }
 },
 "nbformat": 4,
 "nbformat_minor": 2,
 "cells": [
  {
   "cell_type": "code",
   "execution_count": 1,
   "metadata": {},
   "outputs": [],
   "source": [
    "import requests\n",
    "from bs4 import BeautifulSoup, NavigableString\n",
    "import math\n",
    "import Levenshtein\n",
    "from langdetect import detect"
   ]
  },
  {
   "cell_type": "code",
   "execution_count": 2,
   "metadata": {},
   "outputs": [],
   "source": [
    "def findAuthorID(author):\n",
    "    try:\n",
    "        author = author.replace(\" \", \"+\")\n",
    "        page = requests.get(\"https://www.goodreads.com/search?utf8=%E2%9C%93&q=\" + author + \"&search_type=books&search%5Bfield%5D=author\")\n",
    "        soup = BeautifulSoup(page.text, 'html.parser')\n",
    "        idLink = soup.find(class_=\"authorName\",href=True)[\"href\"]\n",
    "        start = idLink.find(\"show/\")\n",
    "        end = idLink.find(\"?from\")\n",
    "        authorID = idLink[start+5:end]\n",
    "\n",
    "        #experimental: trying to find out if the authorID is correct\n",
    "        nameStart = authorID.find(\".\")\n",
    "        authorName = authorID[nameStart+1:].replace(\"_\",\" \")\n",
    "        lDistance = Levenshtein.distance(author,authorName)\n",
    "        differenceScore = lDistance-len(authorName)+len(author) #bigger is worse\n",
    "\n",
    "    except:\n",
    "        print(\"failed to find author\")\n",
    "        pass\n",
    "    print(\"found \" + author +\" @ \" + authorID)\n",
    "    print(\"(experimental) difference score = \" + str(differenceScore))\n",
    "    return authorID"
   ]
  },
  {
   "cell_type": "code",
   "execution_count": 23,
   "metadata": {},
   "outputs": [],
   "source": [
    "def getQuotesByAuthor(author, maxChars, page_num = None):\n",
    "    all_quotes = []\n",
    "    authorID = findAuthorID(author)\n",
    "\n",
    "    if page_num is None:\n",
    "        try:\n",
    "            page = requests.get(\"https://www.goodreads.com/author/quotes/\" + authorID)\n",
    "            soup = BeautifulSoup(page.text, 'html.parser')\n",
    "            pages = soup.find(class_=\"smallText\").text\n",
    "            of = pages.find(\"of \")\n",
    "            showing = pages.find(\"Showing \")\n",
    "            num_shown = pages[showing+10:of-1]\n",
    "            total_num = pages[of+3:]\n",
    "            total_num = total_num.replace(\",\", \"\").replace(\"\\n\", \"\")\n",
    "            num_shown = int(num_shown)\n",
    "            total_num = int(total_num)\n",
    "            page_num = math.ceil(total_num/num_shown)\n",
    "            print(\"looking through\", page_num, \"pages\")\n",
    "\n",
    "        except:\n",
    "            page_num = 1\n",
    "\n",
    "\n",
    "    for i in range(1, page_num+1, 1):\n",
    "        try:\n",
    "            page = requests.get(\"https://www.goodreads.com/author/quotes/\" + authorID + \"?page=\" + str(i))\n",
    "            soup = BeautifulSoup(page.text, 'html.parser')\n",
    "            print(\"scraping page\", i, \" of \", page_num)\n",
    "        except:\n",
    "            print(\"could not connect to goodreads\")\n",
    "            break    \n",
    "\n",
    "        try:\n",
    "            quote = soup.find(class_=\"quotes\")\n",
    "            quote_list = quote.find_all(class_=\"quoteDetails\")\n",
    "        except:\n",
    "            pass\n",
    "\n",
    "        for quote in quote_list:\n",
    "            meta_data = []\n",
    "        # Get quote's text\n",
    "            try:\n",
    "                outer = quote.find(class_=\"quoteText\")\n",
    "                inner_text = [element for element in outer if isinstance(element, NavigableString)]\n",
    "                final_quote = \"\\n\".join(inner_text[:])\n",
    "                #final_quote = final_quote.replace(\"\\n\", \" \")\n",
    "                #final_quote = final_quote.replace(\"―\", \"\").strip()\n",
    "            except:\n",
    "                pass \n",
    "            if(len(final_quote) < maxChars and len(final_quote) != 0 and detect(final_quote) == \"en\"):\n",
    "                    meta_data.append(inner_text)\n",
    "            else:\n",
    "                meta_data.append(None)\n",
    "                continue\n",
    "            #get quote's tags\n",
    "            try: \n",
    "                title = quote.find(class_=\"authorOrTitle\")\n",
    "                title = title.nextSibling.nextSibling.text\n",
    "                title = title.replace(\"\\n\", \"\")\n",
    "                meta_data.append(title.strip())\n",
    "            except:\n",
    "                meta_data.append(None)\n",
    "\n",
    "            # Get quote's tags\n",
    "            try:\n",
    "                tags = quote.find(class_=\"greyText smallText left\").text\n",
    "                tags = [x.strip() for x in tags.split(',')]\n",
    "                tags = tags[1:]\n",
    "                meta_data.append(tags)\n",
    "            except:\n",
    "                meta_data.append(None)\n",
    "            \n",
    "            # Get number of likes\n",
    "            try:\n",
    "                likes = quote.find(class_=\"right\").text\n",
    "                likes = likes.replace(\"likes\", \"\")\n",
    "                likes = int(likes)\n",
    "                meta_data.append(likes)\n",
    "            except:\n",
    "                meta_data.append(None)\n",
    "\n",
    "            all_quotes.append(meta_data)\n",
    "    \n",
    "    return all_quotes"
   ]
  },
  {
   "cell_type": "code",
   "execution_count": 24,
   "metadata": {
    "tags": []
   },
   "outputs": [
    {
     "output_type": "stream",
     "name": "stdout",
     "text": "found Friedrich+Nietzsche @ 1938.Friedrich_Nietzsche\n(experimental) difference score = 1\nscraping page 1  of  3\nscraping page 2  of  3\nscraping page 3  of  3\n"
    },
    {
     "output_type": "execute_result",
     "data": {
      "text/plain": "[[&#39;\\n      “Without music, life would be a mistake.”\\n  \\n  ―\\n  \\n\\n\\n\\n\\n\\n\\n\\n&#39;,\n  &#39;Twilight of the Idols&#39;,\n  [&#39;music&#39;, &#39;philosophy&#39;],\n  67923],\n [&#39;\\n      “It is not a lack of love, but a lack of friendship that makes unhappy marriages.”\\n  \\n  ―\\n  \\n\\n&#39;,\n  None,\n  [&#39;lack-of-friendship&#39;,\n   &#39;lack-of-love&#39;,\n   &#39;love&#39;,\n   &#39;marriage&#39;,\n   &#39;unhappy-marriage&#39;],\n  39663],\n [&#39;\\n      “That which does not kill us makes us stronger.”\\n  \\n  ―\\n  \\n\\n&#39;,\n  None,\n  [&#39;strength&#39;],\n  33021],\n [&quot;\\n      “I&#39;m not upset that you lied to me, I&#39;m upset that from now on I can&#39;t believe you.”\\n  \\n  ―\\n  \\n\\n&quot;,\n  None,\n  [&#39;lying&#39;, &#39;trust&#39;],\n  29692],\n [&#39;\\n      “And those who were seen dancing were thought to be insane by those who could not hear the music.”\\n  \\n  ―\\n  \\n\\n&#39;,\n  None,\n  [&#39;music&#39;],\n  9215],\n [&#39;\\n      “It is hard enough to remember my opinions, without also remembering my reasons for them!”\\n  \\n  ―\\n  \\n\\n&#39;,\n  None,\n  [&#39;philosophy&#39;],\n  7345],\n [&#39;\\n      “There is always some madness in love. But there is also always some reason in madness.”\\n  \\n  ―\\n  \\n\\n&#39;,\n  None,\n  [&#39;madness&#39;],\n  6564],\n [&#39;\\n      “You have your way. I have my way. As for the right way, the correct way, and the only way, it does not exist.”\\n  \\n  ―\\n  \\n\\n&#39;,\n  None,\n  [&#39;correct-way&#39;,\n   &#39;individuality&#39;,\n   &#39;my-way&#39;,\n   &#39;only-way&#39;,\n   &#39;right-way&#39;,\n   &#39;the-way&#39;,\n   &#39;your-way&#39;],\n  6051],\n [&#39;\\n      “You must have chaos within you to give birth to a dancing star.”\\n  \\n  ―\\n  \\n\\n&#39;,\n  None,\n  [&#39;chaos&#39;],\n  6031],\n [&quot;\\n      “Sometimes people don&#39;t want to hear the truth because they don&#39;t want their illusions destroyed.”\\n  \\n  ―\\n  \\n\\n&quot;,\n  None,\n  None,\n  5005],\n [&#39;\\n      “In heaven, all the interesting people are missing.”\\n  \\n  ―\\n  \\n\\n&#39;,\n  None,\n  [&#39;religion&#39;],\n  4717],\n [&#39;\\n      “There are no facts, only interpretations.”\\n  \\n  ―\\n  \\n\\n&#39;,\n  None,\n  [&#39;truth&#39;],\n  4424],\n [&#39;\\n      “He who has a why to live for can bear almost any how.”\\n  \\n  ―\\n  \\n\\n&#39;,\n  None,\n  [&#39;life&#39;, &#39;purpose&#39;, &#39;questioning&#39;, &#39;questions&#39;, &#39;why&#39;],\n  4342],\n [&#39;\\n      “The man of knowledge must be able not only to love his enemies but also to hate his friends.”\\n  \\n  ―\\n  \\n\\n&#39;,\n  None,\n  [&#39;friends&#39;,\n   &#39;friendship&#39;,\n   &#39;hatred&#39;,\n   &#39;intelligence&#39;,\n   &#39;knowledge&#39;,\n   &#39;love&#39;,\n   &#39;wisdom&#39;],\n  4254],\n [&#39;\\n      “We should consider every day lost on which we have not danced at least once.”\\n  \\n  ―\\n  \\n\\n&#39;,\n  None,\n  [&#39;dancing&#39;, &#39;music&#39;],\n  3850],\n [&#39;\\n      “When we are tired, we are attacked by ideas we conquered long ago.”\\n  \\n  ―\\n  \\n\\n&#39;,\n  None,\n  [&#39;philosophy&#39;],\n  3567],\n [&#39;\\n      “I cannot believe in a God who wants to be praised all the time.”\\n  \\n  ―\\n  \\n\\n&#39;,\n  None,\n  [&#39;agnosticism&#39;, &#39;prayer&#39;, &#39;religion&#39;],\n  3556],\n [&#39;\\n      “The snake which cannot cast its skin has to die. As well the minds which are prevented from changing their opinions; they cease to be mind.”\\n  \\n  ―\\n  \\n\\n&#39;,\n  None,\n  [&#39;mind&#39;, &#39;nietzsche&#39;],\n  3151],\n [&#39;\\n      “No one can construct for you the bridge upon which precisely you must cross the stream of life, no one but you yourself alone.”\\n  \\n  ―\\n  \\n\\n&#39;,\n  None,\n  None,\n  2949],\n [&#39;\\n      “In individuals, insanity is rare; but in groups, parties, nations and epochs, it is the rule.”\\n  \\n  ―\\n  \\n\\n&#39;,\n  None,\n  [&#39;society&#39;],\n  2893],\n [&#39;\\n      “The advantage of a bad memory is that one enjoys several times the same good things for the first time.”\\n  \\n  ―\\n  \\n\\n&#39;,\n  None,\n  [&#39;forgetting&#39;, &#39;happiness&#39;, &#39;memory&#39;],\n  2472],\n [&#39;\\n      “The surest way to corrupt a youth is to instruct him to hold in higher esteem those who think alike than those who think differently.”\\n  \\n  ―\\n  \\n\\n&#39;,\n  None,\n  [&#39;individuality&#39;, &#39;peer-pressure&#39;, &#39;youth&#39;],\n  2456],\n [&#39;\\n      “Man is the cruelest animal.”\\n  \\n  ―\\n  \\n\\n&#39;,\n  None,\n  [&#39;cruelty&#39;, &#39;evil&#39;, &#39;man&#39;],\n  2417],\n [&quot;\\n      “Is man merely a mistake of God&#39;s? Or God merely a mistake of man?”\\n  \\n  ―\\n  \\n\\n&quot;,\n  None,\n  [&#39;organized-religion&#39;, &#39;paradox&#39;, &#39;religion&#39;],\n  2413],\n [&#39;\\n      “I am a forest, and a night of dark trees: but he who is not afraid of my darkness, will find banks full of roses under my cypresses.”\\n  \\n  ―\\n  \\n\\n\\n\\n\\n\\n&#39;,\n  &#39;Thus Spoke Zarathustra&#39;,\n  [],\n  2061],\n [&#39;\\n      “Every deep thinker is more afraid of being understood than of being misunderstood.”\\n  \\n  ―\\n  \\n\\n&#39;,\n  None,\n  None,\n  2044],\n [&#39;\\n      “Thoughts are the shadows of our feelings -- always darker, emptier and simpler.”\\n  \\n  ―\\n  \\n\\n&#39;,\n  None,\n  None,\n  2027],\n [&#39;\\n      “The thought of suicide is a great consolation: by means of it one gets through many a dark night.”\\n  \\n  ―\\n  \\n\\n&#39;,\n  None,\n  [],\n  2023],\n [&#39;\\n      “The higher we soar the smaller we appear to those who cannot fly.”\\n  \\n  ―\\n  \\n\\n\\n\\n\\n\\n\\n\\n&#39;,\n  &#39;Thus Spoke Zarathustra&#39;,\n  [],\n  1921],\n [&#39;\\n      “Faith: not wanting to know what the truth is.”\\n  \\n  ―\\n  \\n\\n&#39;,\n  None,\n  None,\n  1910],\n [&#39;\\n      “I would believe only in a God that knows how to dance.”\\n  \\n  ―\\n  \\n\\n&#39;,\n  None,\n  [],\n  1731],\n [&#39;\\n      “A thinker sees his own actions as experiments and questions--as attempts to find out something. Success and failure are for him answers above all.”\\n  \\n  ―\\n  \\n\\n&#39;,\n  None,\n  [&#39;intelligence&#39;, &#39;science&#39;, &#39;scientific-process&#39;, &#39;success&#39;, &#39;truth&#39;],\n  1728],\n [&#39;\\n      “A casual stroll through the lunatic asylum shows that faith does not prove anything.”\\n  \\n  ―\\n  \\n\\n&#39;,\n  None,\n  [&#39;delusions&#39;, &#39;faith&#39;, &#39;insanity&#39;],\n  1638],\n [&#39;\\n      “The true man wants two things: danger and play. For that reason he wants woman, as the most dangerous plaything.”\\n  \\n  ―\\n  \\n\\n&#39;,\n  None,\n  [&#39;women&#39;],\n  1599],\n [&#39;\\n      “Beware that, when fighting monsters, you yourself do not become a monster... for when you gaze long into the abyss. The abyss gazes also into you.”\\n  \\n  ―\\n  \\n\\n&#39;,\n  None,\n  None,\n  1567],\n [&#39;\\n      “There are no beautiful surfaces without a terrible depth.”\\n  \\n  ―\\n  \\n\\n&#39;,\n  None,\n  None,\n  1507],\n [&#39;\\n      “We have art in order not to die of the truth.”\\n  \\n  ―\\n  \\n\\n&#39;,\n  None,\n  [],\n  1484],\n [&#39;\\n      “All truly great thoughts are conceived while walking.”\\n  \\n  ―\\n  \\n\\n\\n\\n\\n\\n&#39;,\n  &#39;Twilight of the Idols&#39;,\n  [&#39;intelligence&#39;, &#39;reflection&#39;, &#39;thinking&#39;, &#39;walking&#39;],\n  1409],\n [&#39;\\n      “Be careful, lest in casting out your demon you exorcise the best thing in you.”\\n  \\n  ―\\n  \\n\\n&#39;,\n  None,\n  [],\n  1389],\n [&#39;\\n      “you must be ready to burn yourself in your own flame;&#39;,\n  &#39;Thus Spoke Zarathustra&#39;,\n  None,\n  1388],\n [&#39;\\n      “There are two different types of people in the world, those who want to know, and those who want to believe.”\\n  \\n  ―\\n  \\n\\n&#39;,\n  None,\n  None,\n  1319],\n [&#39;\\n      “A good writer possesses not only his own spirit but also the spirit of his friends.”\\n  \\n  ―\\n  \\n\\n&#39;,\n  None,\n  [&#39;friendship&#39;, &#39;observation&#39;, &#39;writers&#39;, &#39;writing&#39;],\n  1154],\n [&quot;\\n      “One ought to hold on to one&#39;s heart; for if one lets it go, one soon loses control of the head too.”\\n  \\n  ―\\n  \\n\\n&quot;,\n  None,\n  [&#39;heart&#39;, &#39;insanity&#39;, &#39;love&#39;, &#39;rationality&#39;, &#39;reason&#39;],\n  1124],\n [&#39;\\n      “All things are subject to interpretation. Whichever interpretation prevails at a given time is a function of power and not truth.”\\n  \\n  ―\\n  \\n\\n&#39;,\n  None,\n  [],\n  1102],\n [&#39;\\n      “In truth,there was only one christian and he died on the cross.”\\n  \\n  ―\\n  \\n\\n&#39;,\n  None,\n  [&#39;christianity&#39;, &#39;religion&#39;],\n  1042],\n [&#39;\\n      “That which is done out of love is always beyond good and evil.”\\n  \\n  ―\\n  \\n\\n&#39;,\n  None,\n  None,\n  1027],\n [&#39;\\n      “Silence is worse; all truths that are kept silent become poisonous.”\\n  \\n  ―\\n  \\n\\n\\n\\n\\n\\n&#39;,\n  &#39;Thus Spoke Zarathustra&#39;,\n  [],\n  1026],\n [&#39;\\n      “All I need is a sheet of paper&#39;, None, [], 993],\n [&#39;\\n      “Ah, women. They make the highs higher and the lows more frequent.”\\n  \\n  ―\\n  \\n\\n&#39;,\n  None,\n  [&#39;gender-stereotypes&#39;],\n  902],\n [&#39;\\n      “One must still have chaos in oneself to be able to give birth to a dancing star.”\\n  \\n  ―\\n  \\n\\n&#39;,\n  None,\n  [&#39;creativity&#39;,\n   &#39;inspirational&#39;,\n   &#39;mental-illness&#39;,\n   &#39;outsider&#39;,\n   &#39;self-discovery&#39;],\n  859],\n [&#39;\\n      “Art is the proper task of life. ”\\n  \\n  ―\\n  \\n\\n&#39;,\n  None,\n  [&#39;inspirational&#39;, &#39;life&#39;],\n  855],\n [&#39;\\n      “Invisible threads are the strongest ties.”\\n  \\n  ―\\n  \\n\\n&#39;,\n  None,\n  [&#39;invisibility&#39;, &#39;thread&#39;, &#39;ties&#39;],\n  848],\n [&#39;\\n      “Amor Fati – “Love Your Fate”, which is in fact your life.”\\n  \\n  ―\\n  \\n\\n&#39;,\n  None,\n  [&#39;inspirational&#39;, &#39;life&#39;, &#39;love&#39;],\n  848],\n [&#39;\\n      “There is not enough love and goodness in the world to permit giving any of it away to imaginary beings.”\\n  \\n  ―\\n  \\n\\n\\n\\n\\n\\n&#39;,\n  &#39;Human, All Too Human: A Book for Free Spirits&#39;,\n  [&#39;religion&#39;],\n  829],\n [&quot;\\n      “What does your conscience say? — &#39;You should become the person you are&#39;.”\\n  \\n  ―\\n  \\n\\n&quot;,\n  None,\n  None,\n  827],\n [&#39;\\n      “The lonely one offers his hand too quickly to whomever he encounters.”\\n  \\n  ―\\n  \\n\\n\\n\\n\\n\\n\\n\\n&#39;,\n  &#39;Thus Spake Zarathustra: A Book for All and None&#39;,\n  None,\n  820],\n [&#39;\\n      “Blessed are the forgetful, for they get the better even of their blunders.”\\n  \\n  ―\\n  \\n\\n&#39;,\n  None,\n  [&#39;bless&#39;,\n   &#39;blessed&#39;,\n   &#39;blunders&#39;,\n   &#39;forget&#39;,\n   &#39;forgetful&#39;,\n   &#39;friedrich&#39;,\n   &#39;memory&#39;,\n   &#39;nietzsche&#39;],\n  811],\n [&#39;\\n      “Perhaps I know best why it is man alone who laughs; he alone suffers so deeply that he had to invent laughter.”\\n  \\n  ―\\n  \\n\\n&#39;,\n  None,\n  [],\n  794],\n [&#39;\\n      “Ultimately, it is the desire, not the desired, that we love.”\\n  \\n  ―\\n  \\n\\n&#39;,\n  None,\n  [&#39;love&#39;],\n  779],\n [&#39;\\n      “Stupidity in a woman is unfeminine.”\\n  \\n  ―\\n  \\n\\n\\n\\n\\n\\n&#39;,\n  &#39;Human, All Too Human&#39;,\n  None,\n  687],\n [&#39;\\n      “They muddy the water, to make it seem deep.”\\n  \\n  ―\\n  \\n\\n&#39;,\n  None,\n  None,\n  686],\n [&#39;\\n      “A thought, even a possibility, can shatter and transform us.”\\n  \\n  ―\\n  \\n\\n&#39;,\n  None,\n  [&#39;profundity&#39;, &#39;thought&#39;],\n  676],\n [&#39;\\n      “After coming into contact with a religious man I always feel I must wash my hands.”\\n  \\n  ―\\n  \\n\\n&#39;,\n  None,\n  [],\n  671],\n [&#39;\\n      “One repays a teacher badly if one always remains nothing but a pupil.”\\n  \\n  ―\\n  \\n\\n\\n\\n\\n\\n&#39;,\n  &#39;Thus Spoke Zarathustra&#39;,\n  [&#39;student&#39;, &#39;teacher&#39;],\n  658],\n [&#39;\\n      “Become who you are!”\\n  \\n  ―\\n  \\n\\n\\n\\n\\n\\n&#39;,\n  &#39;Thus Spake Zarathustra: A Book for All and None&#39;,\n  None,\n  630],\n [&#39;\\n      “The visionary lies to himself, the liar only to others.”\\n  \\n  ―\\n  \\n\\n&#39;,\n  None,\n  [&#39;lying&#39;, &#39;self-deception&#39;, &#39;vision&#39;, &#39;visionaries&#39;],\n  609],\n [&#39;\\n      “There is more wisdom in your body than in your deepest philosophy.”\\n  \\n  ―\\n  \\n\\n\\n\\n\\n\\n&#39;,\n  &#39;Thus Spoke Zarathustra&#39;,\n  None,\n  607],\n [&#39;\\n      “To live is to suffer, to survive is to find some meaning in the suffering.”\\n  \\n  ―\\n  \\n\\n&#39;,\n  None,\n  None,\n  604],\n [&#39;\\n      “Is it better to out-monster the monster or to be quietly devoured?”\\n  \\n  ―\\n  \\n\\n&#39;,\n  None,\n  None,\n  595],\n [&#39;\\n      “Hope in reality is the worst of all evils because it prolongs the torments of man.”\\n  \\n  ―\\n  \\n\\n&#39;,\n  None,\n  [],\n  590],\n [&#39;\\n      “He who would learn to fly one day must first learn to walk and run and climb and dance; one cannot fly into flying. ”\\n  \\n  ―\\n  \\n\\n&#39;,\n  None,\n  [],\n  579],\n [&#39;\\n      “I know of no better life purpose than to perish in attempting the great and the impossible.”\\n  \\n  ―\\n  \\n\\n&#39;,\n  None,\n  None,\n  565],\n [&#39;\\n      “The most perfidious way of harming a cause consists of defending it deliberately with faulty arguments.”\\n  \\n  ―\\n  \\n\\n&#39;,\n  None,\n  [&#39;philosophy&#39;, &#39;scientific-process&#39;, &#39;truth&#39;],\n  551],\n [&#39;\\n      “Is life not a thousand times too short for us to bore ourselves?”\\n  \\n  ―\\n  \\n\\n&#39;,\n  None,\n  [&#39;life&#39;],\n  535],\n [&#39;\\n      “Everything the State says is a lie, and everything it has it has stolen.”\\n  \\n  ―\\n  \\n\\n&#39;,\n  None,\n  [&#39;lies&#39;],\n  506],\n [&#39;\\n      “And once you are awake, you shall remain awake eternally. ”\\n  \\n  ―\\n  \\n\\n\\n\\n\\n\\n&#39;,\n  &#39;Thus Spoke Zarathustra - A Book For All And None&#39;,\n  None,\n  498],\n [&#39;\\n      “Talking much about oneself can also be a means to conceal oneself. ”\\n  \\n  ―\\n  \\n\\n&#39;,\n  None,\n  None,\n  489],\n [&#39;\\n      “the voice of beauty speaks softly; it creeps only into the most fully awakened souls”\\n  \\n  ―\\n  \\n\\n&#39;,\n  None,\n  [&#39;beauty&#39;, &#39;gentle&#39;, &#39;voice&#39;],\n  488],\n [&#39;\\n      “Distrust all in whom the impulse to punish is powerful.”\\n  \\n  ―\\n  \\n\\n&#39;,\n  None,\n  None,\n  450],\n [&quot;\\n      “...throw roses into the abyss and say: &#39;here is my thanks to the monster who didn&#39;t succeed in swallowing me alive.”\\n  \\n  ―\\n  \\n\\n&quot;,\n  None,\n  [],\n  445]]"
     },
     "metadata": {},
     "execution_count": 24
    }
   ],
   "source": [
    "quotes = getQuotesByAuthor(\"Friedrich Nietzsche\", 175,3)\n",
    "#for quote in quotes:\n",
    "#    print(quote[0])\n",
    "quotes"
   ]
  },
  {
   "cell_type": "code",
   "execution_count": null,
   "metadata": {},
   "outputs": [],
   "source": []
  }
 ]
}