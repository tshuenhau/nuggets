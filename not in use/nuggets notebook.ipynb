{
 "metadata": {
  "language_info": {
   "codemirror_mode": {
    "name": "ipython",
    "version": 3
   },
   "file_extension": ".py",
   "mimetype": "text/x-python",
   "name": "python",
   "nbconvert_exporter": "python",
   "pygments_lexer": "ipython3",
   "version": "3.8.5-final"
  },
  "orig_nbformat": 2,
  "kernelspec": {
   "name": "Python 3.8.5 64-bit ('nuggets': conda)",
   "display_name": "Python 3.8.5 64-bit ('nuggets': conda)",
   "metadata": {
    "interpreter": {
     "hash": "410c48fdd01c30595162ecabab559f8259b61aac1f96fea3078fa9525c871164"
    }
   }
  }
 },
 "nbformat": 4,
 "nbformat_minor": 2,
 "cells": [
  {
   "cell_type": "code",
   "execution_count": 22,
   "metadata": {},
   "outputs": [],
   "source": [
    "import requests\n",
    "from bs4 import BeautifulSoup, NavigableString\n",
    "import math\n",
    "import Levenshtein\n",
    "from langdetect import detect\n",
    "import json"
   ]
  },
  {
   "cell_type": "code",
   "execution_count": 2,
   "metadata": {},
   "outputs": [],
   "source": [
    "def findAuthorID(author):\n",
    "    try:\n",
    "        author = author.replace(\" \", \"+\")\n",
    "        page = requests.get(\"https://www.goodreads.com/search?utf8=%E2%9C%93&q=\" + author + \"&search_type=books&search%5Bfield%5D=author\")\n",
    "        soup = BeautifulSoup(page.text, 'html.parser')\n",
    "        idLink = soup.find(class_=\"authorName\",href=True)[\"href\"]\n",
    "        start = idLink.find(\"show/\")\n",
    "        end = idLink.find(\"?from\")\n",
    "        authorID = idLink[start+5:end]\n",
    "\n",
    "        #experimental: trying to find out if the authorID is correct\n",
    "        nameStart = authorID.find(\".\")\n",
    "        authorName = authorID[nameStart+1:].replace(\"_\",\" \")\n",
    "        lDistance = Levenshtein.distance(author,authorName)\n",
    "        differenceScore = lDistance-len(authorName)+len(author) #bigger is worse\n",
    "\n",
    "    except:\n",
    "        print(\"failed to find author\")\n",
    "        pass\n",
    "    print(\"found \" + author +\" @ \" + authorID)\n",
    "    print(\"(experimental) difference score = \" + str(differenceScore))\n",
    "    return authorID"
   ]
  },
  {
   "cell_type": "code",
   "execution_count": 56,
   "metadata": {},
   "outputs": [],
   "source": [
    "def getQuotesByAuthor(author, maxChars, page_num = None, language = 'en'):\n",
    "    all_quotes = []\n",
    "    authorID = findAuthorID(author)\n",
    "\n",
    "    if page_num is None:\n",
    "        try:\n",
    "            page = requests.get(\"https://www.goodreads.com/author/quotes/\" + authorID)\n",
    "            soup = BeautifulSoup(page.text, 'html.parser')\n",
    "            pages = soup.find(class_=\"smallText\").text\n",
    "            of = pages.find(\"of \")\n",
    "            showing = pages.find(\"Showing \")\n",
    "            num_shown = pages[showing+10:of-1]\n",
    "            total_num = pages[of+3:]\n",
    "            total_num = total_num.replace(\",\", \"\").replace(\"\\n\", \"\")\n",
    "            num_shown = int(num_shown)\n",
    "            total_num = int(total_num)\n",
    "            page_num = math.ceil(total_num/num_shown)\n",
    "            print(\"looking through\", page_num, \"pages\")\n",
    "\n",
    "        except:\n",
    "            page_num = 1\n",
    "\n",
    "    #get author's name\n",
    "    page = requests.get(\"https://www.goodreads.com/author/quotes/\" + authorID)\n",
    "    soup = BeautifulSoup(page.text, 'html.parser')\n",
    "    h1 = soup.find(\"h1\")\n",
    "    officialName = h1.find_all(\"a\")[1].text\n",
    "    print(\"Author's Official Name: \" + officialName)\n",
    "\n",
    "\n",
    "    for i in range(1, page_num+1, 1):\n",
    "        try:\n",
    "            page = requests.get(\"https://www.goodreads.com/author/quotes/\" + authorID + \"?page=\" + str(i))\n",
    "            soup = BeautifulSoup(page.text, 'html.parser')\n",
    "            print(\"scraping page\", i, \" of \", page_num)\n",
    "        except:\n",
    "            print(\"could not connect to goodreads\")\n",
    "            break    \n",
    "\n",
    "        try:\n",
    "            quote = soup.find(class_=\"quotes\")\n",
    "            quote_list = quote.find_all(class_=\"quoteDetails\")\n",
    "        except:\n",
    "            pass\n",
    "\n",
    "        for quote in quote_list:\n",
    "            meta_data = []\n",
    "        # Get quote's text\n",
    "            try:\n",
    "                outer = quote.find(class_=\"quoteText\")\n",
    "                inner_text = \" \".join(outer.strings)   \n",
    "                midIndex = inner_text.find(\"―\")\n",
    "                final_quote = \" \".join(inner_text[:midIndex].split()).strip()\n",
    "            except:\n",
    "                pass \n",
    "            if(len(final_quote) < maxChars and len(final_quote) != 0 and detect(final_quote) == language):\n",
    "                    meta_data.append(final_quote)\n",
    "            else:\n",
    "                meta_data.append(None)\n",
    "                continue\n",
    "\n",
    "            #get quote's author\n",
    "            try:\n",
    "                meta_data.append(officialName)\n",
    "\n",
    "            except:\n",
    "                meta_data.append(None)\n",
    "\n",
    "            #get quote's title\n",
    "            try: \n",
    "                title = quote.find(class_=\"authorOrTitle\")\n",
    "                title = title.nextSibling.nextSibling.text\n",
    "                title = title.replace(\"\\n\", \"\")\n",
    "                meta_data.append(title.strip())\n",
    "            except:\n",
    "                meta_data.append(None)\n",
    "\n",
    "            # Get quote's tags\n",
    "            try:\n",
    "                tags = quote.find(class_=\"greyText smallText left\").text\n",
    "                tags = [x.strip() for x in tags.split(',')]\n",
    "                tags = tags[1:]\n",
    "                meta_data.append(tags)\n",
    "            except:\n",
    "                meta_data.append(None)\n",
    "            \n",
    "            # Get number of likes\n",
    "            try:\n",
    "                likes = quote.find(class_=\"right\").text\n",
    "                likes = likes.replace(\"likes\", \"\")\n",
    "                likes = int(likes)\n",
    "                meta_data.append(likes)\n",
    "            except:\n",
    "                meta_data.append(None)\n",
    "\n",
    "            all_quotes.append(meta_data)\n",
    "    \n",
    "    print(\"Found \" + str(len(all_quotes)) + \" quotes\")\n",
    "    return all_quotes"
   ]
  },
  {
   "cell_type": "code",
   "execution_count": 58,
   "metadata": {
    "tags": []
   },
   "outputs": [
    {
     "output_type": "stream",
     "name": "stdout",
     "text": "found Descartes @ 36556.Ren_Descartes\n(experimental) difference score = 0\nAuthor&#39;s Official Name: René Descartes\nscraping page 1  of  3\nscraping page 2  of  3\nscraping page 3  of  3\nFound 53 quotes\n"
    },
    {
     "output_type": "execute_result",
     "data": {
      "text/plain": "[[&#39;“I think; therefore I am.”&#39;, &#39;René Descartes&#39;, None, None, 2689],\n [&#39;“The reading of all good books is like conversation with the finest men of past centuries.”&#39;,\n  &#39;René Descartes&#39;,\n  None,\n  [&#39;literature&#39;, &#39;reading&#39;, &#39;words&#39;],\n  850],\n [&#39;“Cogito ergo sum. (I think, therefore I am.) ”&#39;,\n  &#39;René Descartes&#39;,\n  None,\n  [&#39;life-and-living&#39;, &#39;mottos&#39;, &#39;thinking&#39;],\n  635],\n [&#39;“If you would be a real seeker after truth, it is necessary that at least once in your life you doubt, as far as possible, all things.”&#39;,\n  &#39;René Descartes&#39;,\n  None,\n  [&#39;truth&#39;],\n  607],\n [&#39;“Conquer yourself rather than the world.”&#39;,\n  &#39;René Descartes&#39;,\n  None,\n  None,\n  313],\n [&#39;“Common sense is the most widely shared commodity in the world, for every man is convinced that he is well supplied with it.”&#39;,\n  &#39;René Descartes&#39;,\n  None,\n  [&#39;humor&#39;, &#39;irony&#39;],\n  311],\n [&#39;“Doubt is the origin of wisdom”&#39;, &#39;René Descartes&#39;, None, None, 294],\n [&#39;“It is not enough to have a good mind; the main thing is to use it well.”&#39;,\n  &#39;René Descartes&#39;,\n  None,\n  None,\n  240],\n [&#39;“Except our own thoughts, there is nothing absolutely in our power.”&#39;,\n  &#39;René Descartes&#39;,\n  None,\n  [&#39;self-determination&#39;, &#39;self-discipline&#39;],\n  238],\n [&#39;“To know what people really think, pay attention to what they do, rather than what they say.”&#39;,\n  &#39;René Descartes&#39;,\n  None,\n  None,\n  189],\n [&#39;“The greatest minds are capable of the greatest vices as well as of the greatest virtues.”&#39;,\n  &#39;René Descartes&#39;,\n  None,\n  None,\n  166],\n [&quot;“I desire to live in peace and to continue the life I have begun under the motto &#39;to live well you must live unseen”&quot;,\n  &#39;René Descartes&#39;,\n  &#39;The Principles Of Philosophy&#39;,\n  [],\n  145],\n [&#39;“It is only prudent never to place complete confidence in that by which we have even once been deceived.”&#39;,\n  &#39;René Descartes&#39;,\n  &#39;Meditations on First Philosophy&#39;,\n  [&#39;lies&#39;, &#39;trust&#39;, &#39;truth&#39;],\n  119],\n [&#39;“Dubito, ergo cogito, ergo sum. (English: &quot;I doubt, therefore I think, therefore I am&quot;)”&#39;,\n  &#39;René Descartes&#39;,\n  None,\n  None,\n  103],\n [&#39;“But in my opinion, all things in nature occur mathematically.”&#39;,\n  &#39;René Descartes&#39;,\n  None,\n  [&#39;mathematics&#39;, &#39;nature&#39;, &#39;opinion&#39;, &#39;science&#39;],\n  100],\n [&#39;“To live without philosophizing is in truth the same as keeping the eyes closed without attempting to open them.”&#39;,\n  &#39;René Descartes&#39;,\n  None,\n  [],\n  99],\n [&#39;“In order to seek truth, it is necessary once in the course of our life to doubt, as far as possible, of all things.”&#39;,\n  &#39;René Descartes&#39;,\n  None,\n  [],\n  89],\n [&#39;“There is nothing more ancient than the truth.”&#39;,\n  &#39;René Descartes&#39;,\n  None,\n  [],\n  81],\n [&#39;“In order to improve the mind, we ought less to learn than to contemplate.”&#39;,\n  &#39;René Descartes&#39;,\n  None,\n  None,\n  74],\n [&#39;“He who hid well, lived well.”&#39;, &#39;René Descartes&#39;, None, None, 65],\n [&#39;“Divide each difficulty into as many parts as is feasible and necessary to resolve it.”&#39;,\n  &#39;René Descartes&#39;,\n  &#39;Discourse on Method&#39;,\n  [&#39;resolution&#39;],\n  64],\n [&#39;“Each problem that I solved became a rule which served afterwards to solve other problems”&#39;,\n  &#39;René Descartes&#39;,\n  None,\n  None,\n  57],\n [&#39;“At last I will devote myself sincerely and without reservation to the general demolition of my opinions.”&#39;,\n  &#39;René Descartes&#39;,\n  &#39;Discourse on Method&#39;,\n  None,\n  55],\n [&#39;“Because reason...is the only thing that makes us men, and distinguishes us from the beasts, I would prefer to believe that it exists, in its entirety, in each of us...”&#39;,\n  &#39;René Descartes&#39;,\n  None,\n  None,\n  51],\n [&#39;“With me, everything turns into mathematics.”&#39;,\n  &#39;René Descartes&#39;,\n  None,\n  [&#39;mathematics&#39;],\n  51],\n [&#39;“Dubium sapientiae initium. ( Doubt is the origin of wisdom .)”&#39;,\n  &#39;René Descartes&#39;,\n  &#39;Meditations on First Philosophy&#39;,\n  [&#39;logic&#39;, &#39;philosophy&#39;],\n  50],\n [&#39;“...it is a mark of prudence never to place our complete trust in those who have deceived us even once.”&#39;,\n  &#39;René Descartes&#39;,\n  None,\n  None,\n  49],\n [&#39;“Let whoever can do so deceive me, he will never bring it about that I am nothing, so long as I continue to think I am something.”&#39;,\n  &#39;René Descartes&#39;,\n  None,\n  [],\n  49],\n [&#39;“I doubt, therefore I think, therefore I am.”&#39;,\n  &#39;René Descartes&#39;,\n  None,\n  None,\n  36],\n [&#39;“It is not enough to have a good mind. The main thing is to use it well.”&#39;,\n  &#39;René Descartes&#39;,\n  &#39;Discourse on Method&#39;,\n  [],\n  35],\n [&#39;“I am accustomed to sleep and in my dreams to imagine the same things that lunatics imagine when awake.”&#39;,\n  &#39;René Descartes&#39;,\n  None,\n  None,\n  30],\n [&#39;“It is best not to go on for great quest for truth , it will only make you miserable”&#39;,\n  &#39;René Descartes&#39;,\n  None,\n  None,\n  29],\n [&#39;“But what then am I? A thing that thinks. What is that? A thing that doubts, understand, affirms, denies, wills, refuses, and that also imagines and senses.”&#39;,\n  &#39;René Descartes&#39;,\n  &#39;Meditations on First Philosophy&#39;,\n  None,\n  22],\n [&#39;“Nothing is more fairly distributed than common sense: no one thinks he needs more of it than he already has.”&#39;,\n  &#39;René Descartes&#39;,\n  &#39;Discourse on Method&#39;,\n  [],\n  20],\n [&#39;“Dubium sapientiae initium (Doubt is the origin of wisdom).”&#39;,\n  &#39;René Descartes&#39;,\n  None,\n  [&#39;wisdom&#39;],\n  17],\n [&#39;“Whenever enyone has offended me, I try to raise my soul so high that the offense cannot reach it.”&#39;,\n  &#39;René Descartes&#39;,\n  None,\n  [&#39;soul&#39;],\n  16],\n [&#39;“The destruction of the foundations necessarily brings down the whole edifice.”&#39;,\n  &#39;René Descartes&#39;,\n  &#39;Meditations on First Philosophy&#39;,\n  [],\n  15],\n [&#39;“Each problem that I solved became a rule, which served afterwards to solve other problems.”&#39;,\n  &#39;René Descartes&#39;,\n  &#39;Discourse on Method&#39;,\n  [&#39;rule&#39;],\n  15],\n [&#39;“I think therefore I am”&#39;,\n  &#39;René Descartes&#39;,\n  &#39;Discourse on Method and Meditations on First Philosophy&#39;,\n  None,\n  15],\n [&#39;“The dreams we imagine when we are asleep should not in any way make us doubt the truth of the thoughts we have when we are awake.”&#39;,\n  &#39;René Descartes&#39;,\n  &#39;Discourse on Method and Meditations on First Philosophy&#39;,\n  [&#39;imagination&#39;, &#39;truth&#39;],\n  13],\n [&#39;“For the very fact that my knowledge is increasing little by little is the most certain argument for its imperfection.”&#39;,\n  &#39;René Descartes&#39;,\n  &#39;Meditations on the First Philosophy&#39;,\n  None,\n  13],\n [&#39;“De omnibus dubitandum. (Doubt everything.)”&#39;,\n  &#39;René Descartes&#39;,\n  None,\n  [],\n  12],\n [&#39;“One should never judge anything unless it is known.”&#39;,\n  &#39;René Descartes&#39;,\n  &#39;Meditations and Other Metaphysical Writings&#39;,\n  None,\n  12],\n [&#39;“The first precept was never to accept a thing as true until I knew it as such without a single doubt.”&#39;,\n  &#39;René Descartes&#39;,\n  None,\n  None,\n  11],\n [&#39;“Common sense is the best distributed commodity in the world, for every man is convinced that he is well supplied with it.”&#39;,\n  &#39;René Descartes&#39;,\n  &#39;Discourse on Method&#39;,\n  [],\n  11],\n [&#39;“My third maxim was to try always to master myself rather than fortune and change my desires rather than changing how things stand in the world.”&#39;,\n  &#39;René Descartes&#39;,\n  &#39;Discours de la Méthode&#39;,\n  None,\n  11],\n [&#39;“I had become aware, as early as my college days, that no opinion, however absurd and incredible can be imagined, that has not been held by one of the philosophers.”&#39;,\n  &#39;René Descartes&#39;,\n  &#39;Discourse on Method&#39;,\n  None,\n  11],\n [&#39;“It is thus quite certain that the constitution of the true religion, the ordinances of which are derived from God, must be incomparably superior to that of every other.”&#39;,\n  &#39;René Descartes&#39;,\n  &#39;Discourse on Method and Meditations on First Philosophy&#39;,\n  None,\n  10],\n [&#39;“The reading of all good books is like a conversation with the finest minds of past centuries.”&#39;,\n  &#39;René Descartes&#39;,\n  None,\n  None,\n  10],\n [&#39;“. . .it is not my design to teach the method that everyone must follow in order to use his reason properly, but only to show the way in which I have tried to use my own.”&#39;,\n  &#39;René Descartes&#39;,\n  &#39;Discourse on Method&#39;,\n  None,\n  9],\n [&#39;“Am I so tied to a body and senses that I am incapable of existing without them?”&#39;,\n  &#39;René Descartes&#39;,\n  &#39;Meditations and Other Metaphysical Writings&#39;,\n  None,\n  9],\n [&#39;“ Bene vixit, bene qui latuit. (to live well is to live concealed)”&#39;,\n  &#39;René Descartes&#39;,\n  None,\n  None,\n  9],\n [&#39;“The last rule was to make enumerations so complete, and reviews so comprehensive, that I should be certain of omitting nothing.”&#39;,\n  &#39;René Descartes&#39;,\n  &#39;Discourse on Method&#39;,\n  [&#39;comprehensive&#39;, &#39;omission&#39;],\n  8]]"
     },
     "metadata": {},
     "execution_count": 58
    }
   ],
   "source": [
    "quotes = getQuotesByAuthor(\"Descartes\", 175,3)\n",
    "#for quote in quotes:\n",
    " #   print(quote[0])\n",
    "    #print(quote[1])\n",
    "    #print(quote[2])\n",
    "    #print(quote[3])\n",
    "  #  print(\" \")\n",
    "quotes"
   ]
  },
  {
   "cell_type": "code",
   "execution_count": null,
   "metadata": {},
   "outputs": [],
   "source": []
  }
 ]
}