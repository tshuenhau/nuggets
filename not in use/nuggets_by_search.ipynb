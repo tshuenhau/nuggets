{
 "cells": [
  {
   "cell_type": "code",
   "execution_count": 168,
   "metadata": {},
   "outputs": [],
   "source": [
    "import requests\n",
    "from bs4 import BeautifulSoup, NavigableString\n",
    "import math\n",
    "import Levenshtein\n",
    "from langdetect import detect"
   ]
  },
  {
   "cell_type": "code",
   "execution_count": 82,
   "metadata": {},
   "outputs": [],
   "source": []
  },
  {
   "cell_type": "code",
   "execution_count": 175,
   "metadata": {},
   "outputs": [],
   "source": [
    "def getQuotesByAuthor(author, maxChars, page_num = None):\n",
    "    old_author = author\n",
    "    author = author.replace(\" \", \"+\")\n",
    "    all_quotes = []\n",
    "\n",
    "    # if page number not specified, get true page number\n",
    "    if page_num is None:\n",
    "        try:\n",
    "            page = requests.get(\"https://www.goodreads.com/quotes/search??utf8=%E2%9C%93&q=\" + author + \"&commit=Search\")\n",
    "            soup = BeautifulSoup(page.text, 'html.parser')\n",
    "            pages = soup.find(class_=\"smallText\").text\n",
    "            of = pages.find(\"of \")\n",
    "            showing = pages.find(\"Showing \")\n",
    "\n",
    "            num_shown = pages[showing+10:of-1]\n",
    "            total_num = pages[of+3:]\n",
    "            total_num = total_num.replace(\",\", \"\").replace(\"\\n\", \"\")\n",
    "            num_shown = int(num_shown)\n",
    "            total_num = int(total_num)\n",
    "            page_num = math.ceil(total_num/num_shown)\n",
    "            print(\"looking through\", page_num, \"pages\")\n",
    "        except:\n",
    "            page_num = 1\n",
    "    \n",
    "    # for each page\n",
    "    for i in range(1, page_num+1, 1):\n",
    "        try:\n",
    "            page = requests.get(\"https://www.goodreads.com/quotes/search?commit=Search&page=\" + str(i) + \"&q=\" + author + \"&utf8=%E2%9C%93\")\n",
    "            soup = BeautifulSoup(page.text, 'html.parser')\n",
    "            print(\"scraping page\", i, \" of \", page_num)\n",
    "        except:\n",
    "            print(\"could not connect to goodreads\")\n",
    "            break\n",
    "\n",
    "        try:\n",
    "            quote = soup.find(class_=\"leftContainer\")\n",
    "            quote_list = quote.find_all(class_=\"quoteDetails\")\n",
    "        except:\n",
    "            pass\n",
    "\n",
    "        # get data for each quote\n",
    "        for quote in quote_list:\n",
    "\n",
    "            meta_data = []\n",
    "            # Get quote's author\n",
    "            try:\n",
    "                qAuthor = quote.find(class_=\"authorOrTitle\").text\n",
    "                qAuthor = qAuthor.replace(\",\", \"\")\n",
    "                qAuthor = qAuthor.replace(\"\\n\", \"\")\n",
    "                qAuthor = qAuthor.strip()\n",
    "                qAuthor = qAuthor.replace(\" \", \"+\")\n",
    "                \n",
    "            except:\n",
    "                meta_data.append(None)\n",
    "\n",
    "            #if its a quote from a diff author\n",
    "            if(Levenshtein.distance(qAuthor,author) > 5): \n",
    "                continue\n",
    "            else:\n",
    "                meta_data.append(qAuthor.replace(\"+\",\" \").strip())\n",
    "\n",
    "            # Get quote's text\n",
    "            try:\n",
    "                outer = quote.find(class_=\"quoteText\")\n",
    "                inner_text = [element for element in outer if isinstance(element, NavigableString)]\n",
    "                final_quote = \"\\n\".join(inner_text[:])\n",
    "                final_quote = final_quote.replace(\"\\n\", \" \")\n",
    "                final_quote = final_quote.replace(\"―\", \"\").strip()\n",
    "                \n",
    "            except:\n",
    "                pass \n",
    "\n",
    "            if(len(final_quote) < maxChars and len(final_quote) != 0 and detect(final_quote) == \"en\"):\n",
    "                    meta_data.append(final_quote)\n",
    "            else:\n",
    "                meta_data.append(None)\n",
    "                continue\n",
    "            # Get quote's book title\n",
    "            try: \n",
    "                title = quote.find(class_=\"authorOrTitle\")\n",
    "                title = title.nextSibling.nextSibling.text\n",
    "                # title = title.replace(\"\\n\", \"\")\n",
    "                meta_data.append(title.strip())\n",
    "                # print(title)\n",
    "            except:\n",
    "                meta_data.append(None)\n",
    "\n",
    "            # Get quote's tags\n",
    "            try:\n",
    "                tags = quote.find(class_=\"greyText smallText left\").text\n",
    "                tags = [x.strip() for x in tags.split(',')]\n",
    "                tags = tags[1:]\n",
    "                meta_data.append(tags)\n",
    "                # print(tags)\n",
    "            except:\n",
    "                meta_data.append(None)\n",
    "\n",
    "            # Get number of likes\n",
    "            try:\n",
    "                likes = quote.find(class_=\"right\").text\n",
    "                likes = likes.replace(\"likes\", \"\")\n",
    "                likes = int(likes)\n",
    "                meta_data.append(likes)\n",
    "                # print(likes)\n",
    "            except:\n",
    "                meta_data.append(None)\n",
    "\n",
    "            all_quotes.append(meta_data)\n",
    "\n",
    "    #for text, author, title, tags, likes in all_quotes:\n",
    "    #    print(text)\n",
    "    #    print(author)\n",
    "    #    print(title)\n",
    "    #    print(tags)\n",
    "    #    print(likes)\n",
    "    #    print()\n",
    "\n",
    "    return all_quotes\n"
   ]
  },
  {
   "cell_type": "code",
   "execution_count": 176,
   "metadata": {
    "tags": []
   },
   "outputs": [
    {
     "output_type": "stream",
     "name": "stdout",
     "text": "scraping page 1  of  20\nscraping page 2  of  20\nscraping page 3  of  20\nscraping page 4  of  20\nscraping page 5  of  20\nscraping page 6  of  20\nscraping page 7  of  20\nscraping page 8  of  20\nscraping page 9  of  20\nscraping page 10  of  20\nscraping page 11  of  20\nscraping page 12  of  20\nscraping page 13  of  20\nscraping page 14  of  20\nscraping page 15  of  20\nscraping page 16  of  20\nscraping page 17  of  20\nscraping page 18  of  20\nscraping page 19  of  20\nscraping page 20  of  20\n"
    }
   ],
   "source": [
    "Quotes = getQuotesByAuthor(\"William Shakespeare\",175,20)"
   ]
  },
  {
   "cell_type": "code",
   "execution_count": 180,
   "metadata": {
    "tags": []
   },
   "outputs": [
    {
     "output_type": "stream",
     "name": "stdout",
     "text": "“The fool doth think he is wise, but the wise man knows himself to be a fool.”\n“Love all, trust a few, do wrong to none.”\n“Love looks not with the eyes, but with the mind, And therefore is winged Cupid painted blind.”\n“Be not afraid of greatness. Some are born great, some achieve greatness, and others have greatness thrust upon them.”\n“Doubt thou the stars are fire; Doubt that the sun doth move; Doubt truth to be a liar; But never doubt I love.”\n“The fault, dear Brutus, is not in our stars, but in ourselves.”\n“This above all: to thine own self be true,  And it must follow, as the night the day,  Thou canst not then be false to any man.”\n“There is nothing either good or bad, but thinking makes it so.”\n“Hell is empty and all the devils are here.”\n“It is not in the stars to hold our destiny but in ourselves.”\n“If music be the food of love, play on, Give me excess of it; that surfeiting, The appetite may sicken, and so die.”\n“We know what we are, but not what we may be.”\n“Words are easy, like the wind; Faithful friends are hard to find.”\n“You speak an infinite deal of nothing.”\n“Though she be but little, she is fierce!”\n“These violent delights have violent ends And in their triump die, like fire and powder Which, as they kiss, consume”\n“My tongue will tell the anger of my heart, or else my heart concealing it will break.”\n“My bounty is as boundless as the sea, My love as deep; the more I give to thee, The more I have, for both are infinite.”\n“By the pricking of my thumbs,  Something wicked this way comes.”\n“The course of true love never did run smooth.”\n“My only love sprung from my only hate! Too early seen unknown, and known too late! Prodigious birth of love it is to me, That I must love a loathed enemy.”\n“Lord, what fools these mortals be!”\n“Stars, hide your fires; Let not light see my black and deep desires.”\n“I like this place and could willingly waste my time in it.”\n“Don&#39;t waste your love on somebody, who doesn&#39;t value it.”\n“thus with a kiss I die”\n“Double, double, toil and trouble; Fire burn, and cauldron bubble!”\n“Good night, good night! parting is such sweet sorrow,  That I shall say good night till it be morrow.”\n“To die, to sleep -  To sleep, perchance to dream - ay, there&#39;s the rub, For in this sleep of death what dreams may come...”\n“There are more things in Heaven and Earth, Horatio, than are dreamt of in your philosophy.”\n“With mirth and laughter let old wrinkles come.”\n“All that glisters is not gold; Often have you heard that told: Many a man his life hath sold But my outside to behold: Gilded tombs do worms enfold.”\n“Dispute not with her: she is lunatic.”\n“Sigh no more, ladies, sigh no more, Men were deceivers ever,- One foot in sea and one on shore, To one thing constant never.”\n“Our doubts are traitors,  and make us lose the good we oft might win,  by fearing to attempt.”\n“Though this be madness, yet there is method in&#39;t.”\n“Did my heart love till now? forswear it, sight! For I ne&#39;er saw true beauty till this night.”\n“Life ... is a tale Told by an idiot, full of sound and fury, Signifying nothing.”\n“Expectation is the root of all heartache.”\n“For never was a story of more woe than this of Juliet and her Romeo.”\n“Brevity is the soul of wit.”\n“To weep is to make less the depth of grief.”\n“Listen to many, speak to a few.”\n“Give sorrow words; the grief that does not speak knits up the o-er wrought heart and bids it break.”\n“Love is heavy and light, bright and dark, hot and cold, sick and healthy, asleep and awake- its everything except what it is! (Act 1, scene 1)”\n“The breaking of so great a thing should make A greater crack: the round world Should have shook lions into civil streets, And citizens to their dens.”\n“Do not swear by the moon, for she changes constantly. then your love would also change.”\n“They do not love that do not show their love.”\n“One may smile, and smile, and be a villain. ”\n“Look like the innocent flower, But be the serpent under it.”\n“Conscience doth make cowards of us all.”\n“We are such stuff as dreams are made on, and our little life is rounded with a sleep.”\n“How far that little candle throws his beams! So shines a good deed in a weary world.”\n“Presume not that I am the thing I was.”\n“The first thing we do, let&#39;s kill all the lawyers.”\n“I can see he&#39;s not in your good books,&#39; said the messenger. &#39;No, and if he were I would burn my library.”\n“Men at some time are masters of their fates. The fault, dear Brutus, is not in our stars, but in ourselves, that we are underlings.”\n“I had rather hear my dog bark at a crow, than a man swear he loves me.”\n“In time we hate that which we often fear.”\n“What&#39;s done cannot be undone.”\n“Let me be that I am and seek not to alter me.”\n“And yet,to say the truth, reason and love keep little company together nowadays.”\n“My words fly up, my thoughts remain below: Words without thoughts never to heaven go.”\n“What&#39;s past is prologue.”\n“Do you bite your thumb at us, sir?”\n“Wisely and slow; they stumble that run fast.”\n“This above all: to thine own self be true.”\n“Love is a smoke made with the fume of sighs.”\n“Now cracks a noble heart. Good-night, sweet prince; And flights of angels sing thee to thy rest. ”\n“O teach me how I should forget to think (1.1.224)”\n“Do you not know I am a woman? when I think, I must speak.”\n“What&#39;s in a name? that which we call a rose By any other name would smell as sweet.”\n“...Who could refrain,\t That had a heart to love, and in that heart\t Courage to make love known?”\n“Some are born great, others achieve greatness.”\n“When sorrows come, they come not single spies. But in battalions!”\n“But, soft! what light through yonder window breaks? It is the east, and Juliet is the sun.”\n“I do love nothing in the world so well as you- is not that strange?”\n“I am not bound to please thee with my answers.”\n“When we are born, we cry that we are come to this great stage of fools.”\n“My soul is in the sky.”\n“Why, man, he doth bestride the narrow world Like a Colossus; and we petty men Walk under his huge legs, and peep about To find ourselves dishonourable graves.”\n“See how she leans her cheek upon her hand.  O, that I were a glove upon that hand  That I might touch that cheek!”\n“O, beware, my lord, of jealousy; It is the green-ey&#39;d monster, which doth mock The meat it feeds on.”\n“Sweets to the sweet.”\n“If love be rough with you, be rough with love. Prick love for pricking and you beat love down.”\n“Some Cupid kills with arrows, some with traps.”\n“The lady doth protest too much, methinks.”\n“Better a witty fool, than a foolish wit.”\n“The devil can cite Scripture for his purpose.”\n“The lunatic, the lover, and the poet, are of imagination all compact.”\n“For she had eyes and chose me.”\n“Are you sure/That we are awake? It seems to me/That yet we sleep, we dream”\n“If you prick us, do we not bleed? if you tickle us, do we not laugh? if you poison us, do we not die? and if you wrong us, shall we not revenge?&quot;. - (Act III, scene I).”\n“Women may fall when there&#39;s no strength in men. Act II”\n“So wise so young, they say, do never live long.”\n“Go wisely and slowly. Those who rush stumble and fall.”\n“All&#39;s well that ends well.”\n“I must be cruel only to be kind; Thus bad begins, and worse remains behind.”\n“If we are true to ourselves, we can not be false to anyone.”\n“For which of my bad parts didst thou first fall in love with me?”\n“I know a bank where the wild thyme blows, Where oxlips and the nodding violet grows, Quite over-canopied with luscious woodbine, With sweet musk-roses and with eglantine.”\n“Be great in act, as you have been in thought.”\n“Me, poor man, my library Was dukedom large enough.”\n“Nothing will come of nothing: speak again.”\n“Cry havoc and let slip the dogs of war!”\n“I loved Ophelia. Forty thousand brothers could not, with all their quantity of love, make up my sum.”\n“Men in rage strike those that wish them best.”\n“When I said I would die a bachelor, I did not think I should live till I were married.”\n“There&#39;s an old saying that applies to me: you can&#39;t lose a game if you don&#39;t play the game. (Act 1, scene 4)”\n“Exit, pursued by a bear.”\n“I’ll follow thee and make a heaven of hell, To die upon the hand I love so well.”\n“O, wonder! How many goodly creatures are there here! How beauteous mankind is! O brave new world, That has such people in&#39;t!”\n“Oh, I am fortune&#39;s fool!”\n“False face must hide what the false heart doth know.”\n“There was a star danced, and under that was I born.”\n“A sad tale&#39;s best for winter: I have one of sprites and goblins.”\n“If music be the food of love, play on.”\n“Love comforteth like sunshine after rain.”\n“Lovers and madmen have such seething brains Such shaping fantasies, that apprehend More than cool reason ever comprehends. ”\n“Suspicion always haunts the guilty mind.”\n“Something is rotten in the state of Denmark.”\n“So full of artless jealousy is guilt, It spills itself in fearing to be spilt.”\n“I pray you, do not fall in love with me, for I am falser than vows made in wine.”\n“[Thine] face is not worth sunburning.”\n“Of all the wonders that I have heard, It seems to me most strange that men should fear; Seeing death, a necessary end, Will come when it will come. (Act II, Scene 2)”\n“Out of my sight! Thou dost infect mine eyes.”\n“in black ink my love may still shine bright.”\n“I love you with so much of my heart that none is left to protest.”\n“My only love sprung from my only hate.”\n“You are a lover. Borrow Cupid&#39;s wings and soar with them above a common bound.”\n“I dare do all that may become a man;  Who dares do more, is none”\n“I wasted time, and now doth time waste me.”\n“Beware the ides of March.”\n“As flies to wanton boys are we to the gods. They kill us for their sport.”\n“I wish my horse had the speed of your tongue.”\n“Sit by my side, and let the world slip: we shall ne&#39;er be younger.”\n“O sleep, O gentle sleep, Nature&#39;s soft nurse, how have I frightened thee. That thou no more will weigh my eyelids down, And steep my senses in forgetfulness?”\n“Where shall we three meet again in thunder, lightning, or in rain? When the hurlyburly &#39;s done, when the battle &#39;s lost and won”\n“All the world&#39;s a stage.”\n“And thus I clothe my naked villainy With odd old ends stol&#39;n out of holy writ; And seem a saint, when most I play the devil.”\n“Why, what&#39;s the matter, That you have such a February face, So full of frost, of storm and cloudiness?”\n“The prince of darkness is a gentleman!”\n“To be honest, as this world goes, is to be one man picked out of ten thousand.”\n“No legacy is so rich as honesty.”\n“I am but mad north-north-west. When the wind is southerly, I know a hawk from a handsaw.”\n“The evil that men do lives after them; The good is oft interred with their bones.”\n“[Thou] mad mustachio purple-hued maltworms!”\n“Cowards die many times before their deaths; the valiant never taste of death but once.”\n“All things are ready, if our mind be so.”\n“The robb&#39;d that smiles, steals something from the thief; He robs himself that spends a bootless grief.”\n“Many a true word hath been spoken in jest.”\n“The rest, is silence.”\n“Better three hours too soon than a minute too late.”\n“love is blind and lovers cannot see  the pretty follies  that themselves commit”\n“O, when she&#39;s angry, she is keen and shrewd! She was a vixen when she went to school; And though she be but little, she is fierce.”\n“Things without all remedy should be without regard: what&#39;s done is done.”\n“a young woman in love always looks like patience on a monument smiling at grief”\n“Doubt thou the stars are fire; Doubt that the sun doth move; Doubt truth to be a liar; But never doubt I love .”\n“Come what come may, time and the hour run through the roughest day.”\n“O God, I could be bound in a nutshell, and count myself a king of infinite space – were it not that I have bad dreams.”\n“Men&#39;s evil manners live in brass; their virtues we write in water.”\n“Thou and I are too wise to woo peaceably.”\n“Who is it that can tell me who I am?”\n“Reputation is an idle and most false imposition; oft got without merit, and lost without deserving.(Iago, Act II, scene iii)”\n“For sweetest things turn sourest by their deeds; Lillies that fester smell far worse than weeds.”\n“All causes shall give way: I am in blood Stepp’d in so far that, should I wade no more, Returning were as tedious as go o’er.”\n“O, full of scorpions is my mind!”\n“Now I will believe that there are unicorns...”\n“The Devil hath power To assume a pleasing shape.”\n“There&#39;s small choice in rotten apples.”\n“Peace? I hate the word as I hate hell and all Montagues.”\n“And this our life, exempt from public haunt, finds tongues in trees, books in the running brooks, sermons in stones, and good in everything. I would not change it.”\n“Confusion now hath made his masterpiece.”\n“Thou shouldst not have been old till thou hadst been wise.”\n“Men have died from time to time, and worms have eaten them, but not for love.”\n“Love&#39;s stories written in love&#39;s richest books. To fan the moonbeams from his sleeping eyes.”\n“This thing of darkness I Acknowledge mine.”\n“Thought is free.”\n“No, no, I am but shadow of myself: You are deceived, my substance is not here;”\n“But I will wear my heart upon my sleeve For daws to peck at: I am not what I am.”\n“For I have sworn thee fair, and thought thee bright, Who art as black as hell, as dark as night.”\n“Tis an ill cook that cannot lick his own fingers.”\n“A rose by any other name would smell as sweet.”\n“Thus I die. Thus, thus, thus. Now I am dead, Now I am fled, My soul is in the sky. Tongue, lose thy light. Moon take thy flight. Now die, die, die, die.”\n“Demetrius: Villain, what hast thou done? Aaron: That which thou canst not undo. Chiron: Thou hast undone our mother. Aaron: Villain, I have done thy mother.”\n“So we grew together, Like to a double cherry, seeming parted, But yet an union in partition, Two lovely berries moulded on one stem.”\n“it provokes the desire, but it takes away the performance”\n“Love sought is good, but giv&#39;n unsought is better.”\n“Lord, we know what we are, but know not what we may be.”\n“You cannot, sir, take from me any thing that I will more willingly part withal: except my life, except my life, except my life.”\n“O, brave new world that has such people in&#39;t!”\n“His life was gentle; and the elements So mixed in him, that Nature might stand up And say to all the world, THIS WAS A MAN!”\n“Out, damned spot! out, I say!”\n“I would not put a thief in my mouth to steal my brains.”\n“To be or not to be that is the question.”\n“Out, out brief candle, life is but a walking shadow...a tale told by an idiot, full of sound and fury, signifying nothing.”\n“My hands are of your color, but I shame to wear a heart so white.”\n“Thou art a very ragged Wart.”\n“If we shadows have offended, Think but this, and all is mended, That you have but slumber&#39;d here While these visions did appear.”\n“Sweet are the uses of adversity Which, like the toad, ugly and venomous, Wears yet a precious jewel in his head.”\n“When I bestride him, I soar, I am a hawk: he trots the air; the earth sings when he touches it; the basest horn of his hoof is more musical than the pipe of Hermes. ”\n“Awake, dear heart, awake. Thou hast slept well. Awake.”\n“I am very proud, revengeful, ambitious, with more offences at my beck than I have thoughts to put them in, imagination to give them shape, or time to act them in.”\n“I have had a most rare vision. I have had a dream, past the wit of man to say what dream it was.”\n“Eyes, look your last!  Arms, take your last embrace!  And, lips, oh you the doors of breath, seal with a righteous kiss a dateless bargain to engrossing death!”\n“April hath put a spirit of youth in everything. (Sonnet XCVIII)”\n“Silence is the perfectest herault of joy. I were but little happy if I could say how much.”\n“The Play&#39;s the Thing, wherein I&#39;ll catch the conscience of the King.”\n“And sleep, that sometime shuts up sorrow&#39;s eye, Steal me awhile from mine own company.”\n“The fault, dear Brutus, is not in our stars/ But in ourselves.”\n“What, my dear Lady Disdain! are you yet living? Beatrice: Is it possible disdain should die while she hath such meet food to feed it as Signior Benedick?”\n“Give every man thine ear, but few thy voice; Take each man&#39;s censure, but reserve thy judgment.”\n“Doubt thou the stars are fire  Doubt thou the sun doth move Doubt truth to be a liar  But never doubt I love”\n“For you, in my respect, are all the world. Then how can it be said I am alone When all the world is here to look on me?”\n“Love is merely a madness.”\n“I say there is no darkness but ignorance.”\n“There is a tide in the affairs of men  which, taken at the floud, leads on to fortune  ommitted, all the voyage of their lives are bound in shallows and in miseries”\n“So fair and foul a day I have not seen.”\n“And therefore, — since I cannot prove a lover, To entertain these fair well-spoken days, — I am determined to prove a villain, And hate the idle pleasures of these days.”\n“Misery acquaints a man with strange bedfellows.”\n“Now is the winter of our discontent Made glorious summer by this sun of York; And all the clouds that lour&#39;d upon our house In the deep bosom of the ocean buried.”\n“Go to your bosom; Knock there, and ask your heart what it doth know. ”\n“Banish&#39;d from [those we love] Is self from self: a deadly banishment!”\n“And worse I may be yet: the worst is not So long as we can say &#39;This is the worst.”\n“The love that follows us sometime is our trouble, which still we thank as love.”\n“She lov&#39;d me for the dangers I had pass&#39;d, And I lov&#39;d her that she did pity them”\n“Tis in ourselves that we are thus or thus. Our bodies are our gardens to the which our wills are gardeners.”\n“The tempter or the tempted, who sins most?”\n“Love is not love which alters when it alteration finds.”\n“Love me!... Why?”\n“One fire burns out another&#39;s burning, One pain is lessen&#39;d by another&#39;s anguish.”\n“Men should be what they seem.”\n“Let us not burthen our remembrance with A heaviness that&#39;s gone.”\n“How art thou out of breath when thou hast breath To say to me that thou art out of breath?”\n“How poor are they that have not patience! What wound did ever heal but by degrees?  Iago”\n“I have no spur To prick the sides of my intent, but only Vaulting ambition, which o&#39;erleaps itself And falls on the other.”\n“He jests at scars that never felt a wound.”\n“Men of few words are the best men.&quot; (3.2.41)”\n“Your tale, sir, would cure deafness.”\n“Self-love, my liege, is not so vile a sin, as self-neglecting.”\n“I would not wish any companion in the world but you.”\n“We burn daylight.”\n“I will live in thy heart, die in thy lap, and be buried in thy eyes—and moreover, I will go with thee to thy uncle’s.”\n“Summer&#39;s lease hath all too short a date.”\n“Is love a tender thing? It is too rough, too rude, too boisterous, and it pricks like thorn.”\n“Out of her favour, where I am in love.”\n“If I be waspish, best beware my sting.”\n“How sharper than a serpent&#39;s tooth it is To have a thankless child!”\n“But break, my heart, for I must hold my tongue.”\n“Though I am not naturally honest, I am sometimes so by chance.”\n“Get thee to a nunnery.”\n“It’s easy for someone to joke about scars if they’ve never been cut.”\n“Angels are bright still, though the brightest fell. Though all things foul would wear the brows of grace, Yet Grace must still look so.”\n“I must be gone and live, or stay and die.”\n“Give me that man that is not passion&#39;s slave, and I will wear him in my heart&#39;s core, in my heart of heart, as I do thee.”\n“Journeys end in lovers meeting,  Every wise man&#39;s son doth know.”\n“Educated men are so impressive!”\n“Death, that hath suck&#39;d the honey of thy breath hath had no power yet upon thy beauty.”\n“One half of me is yours, the other half is yours, Mine own, I would say; but if mine, then yours, And so all yours.”\n“Give me my robe, put on my crown; I have Immortal longings in me”\n“Who knows himself a braggart, let him fear this, for it will come to pass that every braggart shall be found an ass.”\n“So long as men can breathe, or eyes can see, So long lives this, and this gives life to thee.”\n“O time, thou must untangle this, not I. It is too hard a knot for me t&#39;untie.”\n“Time travels at different speeds for different people. I can tell you who time strolls for, who it trots for, who it gallops for, and who it stops cold for.”\n“Excellent wretch! Perdition catch my soul But I do love thee! and when I love thee not, Chaos is come again.”\n“Take pains. Be perfect.”\n“Death, a necessary end, will come when it will come”\n“Tis within ourselves that we are thus or thus”\n“What&#39;s done, is done”\n“Most friendship is feigning, most loving mere folly.”\n“More of your conversation would infect my brain.”\n“All the world&#39;s a stage, and all the men and women merely players.”\n“The sweetest honey is loathsome in its own deliciousness. And in the taste destroys the appetite. Therefore, love moderately.”\n“There&#39;s a divinity that shapes our ends, Rough-hew them how we will.”\n“When beggars die, there are no comets seen; the heavens themselves blaze forth the death of princes.”\n“They do not love, that do not show their love.”\n“Rude am I in my speech, And little blessed with the soft phrase of peace.”\n“I am a man more sinned against than sinning”\n“Uneasy lies the head that wears a crown.”\n“Stars hide your fires; let not light see my black and deep desires: The eyes wink at the hand; yet let that be which the eye fears, when it is done, to see”\n“I kissed thee ere I killed thee. No way but this,  Killing myself, to die upon a kiss.”\n“Will all great Neptune&#39;s ocean wash this blood clean from my hand? No, this my hand will rather the multitudinous seas incarnadine, making the green one red.”\n“Good wombs have borne bad sons.&quot; -- (Miranda, I:2)”\n“I do feel it gone,  But know not how it went”\n“There are no tricks in plain and simple faith.”\n“And since you know you cannot see yourself, so well as by reflection, I, your glass, will modestly discover to yourself, that of yourself which you yet know not of.”\n“  How does he love me?  With adoration, with fertile tears, With groans that thunder love, with sighs of fire.”\n“Tax not so bad a voice to slander music any more than once.”\n“In jest, there is truth.”\n“Life... is a paradise to what we fear of death.”\n“I could be bounded in a nutshell and count myself king of infinite space.”\n“Love goes toward love as schoolboys from their books, But love from love, toward school with heavy looks.”\n“If there is a good will, there is great way.”\n“Romeo, Romeo, wherefore art thou Romeo?”\n“Blood will have blood.”\n“Give me my sin again.”\n“I hold the world but as the world, Gratiano, A stage where every man must play a part, And mine a sad one.”\n“This cold night will turn us all to fools and madmen.”\n“Have more than you show, Speak less than you know.”\n“Oh why rebuke you him that loves you so? / Lay breath so bitter on your bitter foe.”\n"
    }
   ],
   "source": [
    "for i in range(0,len(Quotes)):\n",
    "    print(Quotes[i][1])"
   ]
  },
  {
   "cell_type": "code",
   "execution_count": 137,
   "metadata": {
    "tags": []
   },
   "outputs": [
    {
     "output_type": "stream",
     "name": "stdout",
     "text": "looking through 308 pages\n"
    }
   ],
   "source": [
    "all_quotes = []\n",
    "author = \"William Shakespeare\"\n",
    "old_author = author\n",
    "page_num = 1\n",
    "author = author.replace(\" \", \"+\")\n",
    "\n",
    "page = requests.get(\"https://www.goodreads.com/quotes/search??utf8=%E2%9C%93&q=\" + author + \"&commit=Search\")\n",
    "soup = BeautifulSoup(page.text, 'html.parser')\n",
    "pages = soup.find(class_=\"smallText\").text\n",
    "of = pages.find(\"of \")\n",
    "showing = pages.find(\"Showing \")\n",
    "\n",
    "num_shown = pages[showing+10:of-1]\n",
    "total_num = pages[of+3:]\n",
    "total_num = total_num.replace(\",\", \"\").replace(\"\\n\", \"\")\n",
    "num_shown = int(num_shown)\n",
    "total_num = int(total_num)\n",
    "page_num = math.ceil(total_num/num_shown)\n",
    "print(\"looking through\", page_num, \"pages\")"
   ]
  },
  {
   "cell_type": "code",
   "execution_count": 156,
   "metadata": {
    "tags": []
   },
   "outputs": [
    {
     "output_type": "stream",
     "name": "stdout",
     "text": "scraping page 1\n[&#39;\\n      “The fool doth think he is wise, but the wise man knows himself to be a fool.”\\n  &#39;, &#39;  ―\\n  &#39;, &#39;\\n&#39;, &#39;\\n&#39;, &#39;\\n&#39;, &#39;\\n&#39;]\n“The fool doth think he is wise, but the wise man knows himself to be a fool.”\n[&#39;\\n      “Love all, trust a few, do wrong to none.”\\n  &#39;, &#39;  ―\\n  &#39;, &#39;\\n&#39;, &#39;\\n&#39;, &#39;\\n&#39;]\n“Love all, trust a few, do wrong to none.”\n[&#39;\\n      “Love looks not with the eyes, but with the mind,&#39;, &#39;And therefore is winged Cupid painted blind.”\\n  &#39;, &#39;  ―\\n  &#39;, &#39;\\n&#39;, &#39;\\n&#39;, &#39;\\n&#39;]\n“Love looks not with the eyes, but with the mind, And therefore is winged Cupid painted blind.”\n[&#39;\\n      “Be not afraid of greatness. Some are born great, some achieve greatness, and others have greatness thrust upon them.”\\n  &#39;, &#39;  ―\\n  &#39;, &#39;\\n&#39;, &#39;\\n&#39;, &#39;\\n&#39;]\n“Be not afraid of greatness. Some are born great, some achieve greatness, and others have greatness thrust upon them.”\n[&#39;\\n      “Doubt thou the stars are fire;&#39;, &#39;Doubt that the sun doth move;&#39;, &#39;Doubt truth to be a liar;&#39;, &#39;But never doubt I love.”\\n  &#39;, &#39;  ―\\n  &#39;, &#39;\\n&#39;, &#39;\\n&#39;, &#39;\\n&#39;]\n“Doubt thou the stars are fire; Doubt that the sun doth move; Doubt truth to be a liar; But never doubt I love.”\n[&#39;\\n      “The fault, dear Brutus, is not in our stars, but in ourselves.”\\n  &#39;, &#39;  ―\\n  &#39;, &#39;\\n&#39;, &#39;\\n&#39;, &#39;\\n&#39;]\n“The fault, dear Brutus, is not in our stars, but in ourselves.”\n[&#39;\\n      “This above all: to thine own self be true, &#39;, &#39;And it must follow, as the night the day, &#39;, &#39;Thou canst not then be false to any man.”\\n  &#39;, &#39;  ―\\n  &#39;, &#39;\\n&#39;, &#39;\\n&#39;, &#39;\\n&#39;]\n“This above all: to thine own self be true,  And it must follow, as the night the day,  Thou canst not then be false to any man.”\n[&#39;\\n      “There is nothing either good or bad, but thinking makes it so.”\\n  &#39;, &#39;  ―\\n  &#39;, &#39;\\n&#39;, &#39;\\n&#39;, &#39;\\n&#39;]\n“There is nothing either good or bad, but thinking makes it so.”\n[&#39;\\n      “Hell is empty and all the devils are here.”\\n  &#39;, &#39;  ―\\n  &#39;, &#39;\\n&#39;, &#39;\\n&#39;, &#39;\\n&#39;]\n“Hell is empty and all the devils are here.”\n[&#39;\\n      “It is not in the stars to hold our destiny but in ourselves.”\\n  &#39;, &#39;  ―\\n  &#39;, &#39;\\n&#39;]\n“It is not in the stars to hold our destiny but in ourselves.”\n[&#39;\\n      “If music be the food of love, play on,&#39;, &#39;Give me excess of it; that surfeiting,&#39;, &#39;The appetite may sicken, and so die.”\\n  &#39;, &#39;  ―\\n  &#39;, &#39;\\n&#39;, &#39;\\n&#39;, &#39;\\n&#39;]\n“If music be the food of love, play on, Give me excess of it; that surfeiting, The appetite may sicken, and so die.”\n[&#39;\\n      “We know what we are, but not what we may be.”\\n  &#39;, &#39;  ―\\n  &#39;, &#39;\\n&#39;]\n“We know what we are, but not what we may be.”\n[&#39;\\n      “Words are easy, like the wind; Faithful friends are hard to find.”\\n  &#39;, &#39;  ―\\n  &#39;, &#39;\\n&#39;, &#39;\\n&#39;, &#39;\\n&#39;]\n“Words are easy, like the wind; Faithful friends are hard to find.”\n[&#39;\\n      “You speak an infinite deal of nothing.”\\n  &#39;, &#39;  ―\\n  &#39;, &#39;\\n&#39;, &#39;\\n&#39;, &#39;\\n&#39;]\n“You speak an infinite deal of nothing.”\n[&#39;\\n      “Though she be but little, she is fierce!”\\n  &#39;, &#39;  ―\\n  &#39;, &#39;\\n&#39;, &#39;\\n&#39;, &#39;\\n&#39;]\n“Though she be but little, she is fierce!”\n[&#39;\\n      “These violent delights have violent ends&#39;, &#39;And in their triump die, like fire and powder&#39;, &#39;Which, as they kiss, consume”\\n  &#39;, &#39;  ―\\n  &#39;, &#39;\\n&#39;, &#39;\\n&#39;, &#39;\\n&#39;]\n“These violent delights have violent ends And in their triump die, like fire and powder Which, as they kiss, consume”\n"
    }
   ],
   "source": [
    "for i in range (1,2):\n",
    "    try:\n",
    "        page = requests.get(\"https://www.goodreads.com/quotes/search?commit=Search&page=\" + str(i) + \"&q=\" + author + \"&utf8=%E2%9C%93\")\n",
    "        soup = BeautifulSoup(page.text, 'html.parser')\n",
    "        print(\"scraping page\", i)\n",
    "    except:\n",
    "        print(\"could not connect to goodreads\")\n",
    "\n",
    "    try:\n",
    "        quote = soup.find(class_=\"leftContainer\")\n",
    "        quote_list = quote.find_all(class_=\"quoteDetails\")\n",
    "    except:\n",
    "        pass\n",
    "\n",
    "        # get data for each quote\n",
    "    for quote in quote_list:\n",
    "\n",
    "        meta_data = []\n",
    "                # Get quote's author\n",
    "        try:\n",
    "            qAuthor = quote.find(class_=\"authorOrTitle\").text\n",
    "            qAuthor = qAuthor.replace(\",\", \"\")\n",
    "            qAuthor = qAuthor.replace(\"\\n\", \"\")\n",
    "            qAuthor = qAuthor.strip()\n",
    "            qAuthor = qAuthor.replace(\" \", \"+\")\n",
    "\n",
    "            if(Levenshtein.distance(qAuthor,author) > 5):\n",
    "                continue\n",
    "                    \n",
    "            else:\n",
    "                meta_data.append(author.strip())\n",
    "                    # print(author)\n",
    "        except:\n",
    "            meta_data.append(None)\n",
    "\n",
    "        try:\n",
    "            outer = quote.find(class_=\"quoteText\")\n",
    "            inner_text = [element for element in outer if isinstance(element, NavigableString)]\n",
    "            final_quote = \"\\n\".join(inner_text[:])\n",
    "            final_quote = final_quote.replace(\"\\n\", \" \")\n",
    "            final_quote = final_quote.replace(\"―\", \"\").strip()\n",
    "\n",
    "            meta_data.append(final_quote)\n",
    "            if(len(final_quote) < maxWords):\n",
    "                print(inner_text)\n",
    "                print(final_quote)\n",
    "\n",
    "                meta_data.append(final_quote)\n",
    "            else:\n",
    "                continue\n",
    "        except:\n",
    "            meta_data.append(\"FAIL\")\n",
    "            pass\n",
    "        \n",
    "\n",
    "        all_quotes.append(meta_data)\n",
    "\n",
    "\n"
   ]
  },
  {
   "cell_type": "code",
   "execution_count": null,
   "metadata": {},
   "outputs": [],
   "source": []
  },
  {
   "cell_type": "code",
   "execution_count": null,
   "metadata": {},
   "outputs": [],
   "source": []
  },
  {
   "cell_type": "code",
   "execution_count": null,
   "metadata": {
    "tags": []
   },
   "outputs": [],
   "source": []
  },
  {
   "cell_type": "code",
   "execution_count": 167,
   "metadata": {},
   "outputs": [
    {
     "output_type": "error",
     "ename": "NameError",
     "evalue": "name &#39;detect&#39; is not defined",
     "traceback": [
      "\u001b[1;31m---------------------------------------------------------------------------\u001b[0m",
      "\u001b[1;31mNameError\u001b[0m                                 Traceback (most recent call last)",
      "\u001b[1;32m&lt;ipython-input-167-c196766418cc&gt;\u001b[0m in \u001b[0;36m&lt;module&gt;\u001b[1;34m\u001b[0m\n\u001b[1;32m----&gt; 1\u001b[1;33m \u001b[0mdetect\u001b[0m\u001b[1;33m(\u001b[0m\u001b[1;34m&quot;hello&quot;\u001b[0m\u001b[1;33m)\u001b[0m\u001b[1;33m\u001b[0m\u001b[1;33m\u001b[0m\u001b[0m\n\u001b[0m",
      "\u001b[1;31mNameError\u001b[0m: name &#39;detect&#39; is not defined"
     ]
    }
   ],
   "source": [
    "detect(\"hello\")"
   ]
  },
  {
   "cell_type": "code",
   "execution_count": null,
   "metadata": {},
   "outputs": [],
   "source": []
  }
 ],
 "metadata": {
  "kernelspec": {
   "name": "Python 3.8.5 64-bit ('nuggets': conda)",
   "display_name": "Python 3.8.5 64-bit ('nuggets': conda)",
   "metadata": {
    "interpreter": {
     "hash": "410c48fdd01c30595162ecabab559f8259b61aac1f96fea3078fa9525c871164"
    }
   }
  },
  "language_info": {
   "codemirror_mode": {
    "name": "ipython",
    "version": 3
   },
   "file_extension": ".py",
   "mimetype": "text/x-python",
   "name": "python",
   "nbconvert_exporter": "python",
   "pygments_lexer": "ipython3",
   "version": "3.8.5-final"
  }
 },
 "nbformat": 4,
 "nbformat_minor": 4
}